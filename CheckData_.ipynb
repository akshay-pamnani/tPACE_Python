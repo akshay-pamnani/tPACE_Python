{
 "cells": [
  {
   "cell_type": "code",
   "execution_count": 172,
   "metadata": {},
   "outputs": [],
   "source": [
    "import numpy as np\n",
    "import CheckData"
   ]
  },
  {
   "cell_type": "code",
   "execution_count": 173,
   "metadata": {},
   "outputs": [
    {
     "name": "stderr",
     "output_type": "stream",
     "text": [
      "\u001b[31mERROR: usage: ipykernel_launcher.py [options] [file_or_dir] [file_or_dir] [...]\n",
      "ipykernel_launcher.py: error: unrecognized arguments: --f=/Users/akshaypamnani/Library/Jupyter/runtime/kernel-v2-7839AiyWB1CIAdqr.json\n",
      "  inifile: None\n",
      "  rootdir: /Users/akshaypamnani/FDAPACE_Python\n",
      "\u001b[0m\n"
     ]
    },
    {
     "data": {
      "text/plain": [
       "<ExitCode.USAGE_ERROR: 4>"
      ]
     },
     "execution_count": 173,
     "metadata": {},
     "output_type": "execute_result"
    }
   ],
   "source": [
    "import numpy as np\n",
    "\n",
    "\n",
    "def test_CheckData():\n",
    "    \"\"\"Tests the CheckData function with various edge cases and test scenarios.\"\"\"\n",
    "\n",
    "    # Valid cases\n",
    "    valid_y = [[1, 2, 3], [4, 5, 6]]\n",
    "    valid_t = [[1, 2, 3], [4, 5, 6]]\n",
    "    CheckData(valid_y, valid_t)  # No exceptions expected\n",
    "\n",
    "    # Type errors\n",
    "    invalid_y_str = \"This is a string\"\n",
    "    with pytest.raises(ValueError, match=\"y should be a list\"):\n",
    "        CheckData(invalid_y_str, valid_t)\n",
    "\n",
    "    invalid_t_int = 10\n",
    "    with pytest.raises(ValueError, match=\"t should be a list\"):\n",
    "        CheckData(valid_y, invalid_t_int)\n",
    "\n",
    "    # Length mismatch\n",
    "    mismatched_len_y = [[1, 2, 3], [4, 5]]\n",
    "    with pytest.raises(ValueError, match=\"t and y should have the same length\"):\n",
    "        CheckData(mismatched_len_y, valid_t)\n",
    "\n",
    "    mismatched_len_t = [[1, 2, 3], [4, 5, 6, 7]]\n",
    "    with pytest.raises(ValueError, match=\"t and y should have the same length\"):\n",
    "        CheckData(valid_y, mismatched_len_t)\n",
    "\n",
    "    # Data type errors\n",
    "    invalid_y_type = [[1, 2, \"hello\"]]\n",
    "    with pytest.raises(ValueError, match=\"not all of type double or integer\"):\n",
    "        CheckData(invalid_y_type, valid_t)\n",
    "\n",
    "    invalid_t_type = [[1, 2.5, np.pi]]\n",
    "    with pytest.raises(ValueError, match=\"not all of type double or integer\"):\n",
    "        CheckData(valid_y, invalid_t_type)\n",
    "\n",
    "    # Missing values (NaN)\n",
    "    y_with_nan = [[1, 2, np.nan], [4, np.nan, 6]]\n",
    "    with pytest.raises(ValueError, match=\"FPCA is aborted because the data do not contain repeated measurements in y\"):\n",
    "        CheckData(y_with_nan, valid_t)\n",
    "\n",
    "    t_with_nan = [[1, 2, np.nan], [4, 5, 6]]\n",
    "    with pytest.raises(ValueError, match=\"FPCA is aborted because the data do not contain repeated measurements in t\"):\n",
    "        CheckData(valid_y, t_with_nan)\n",
    "\n",
    "    # Repeated measurements within a subject (in y)\n",
    "    repeated_y = [[1, 2, 2], [4, 5, 5]]\n",
    "    CheckData(repeated_y, valid_t)  # No exceptions for repeated measurements within a subject (in y)\n",
    "\n",
    "    # Repeated measurements within a subject (in t)\n",
    "    repeated_t = [[1, 1, 2], [4, 4, 5]]\n",
    "    with pytest.raises(ValueError, match=\"FPCA is aborted because within-subject 't' members have duplicated values.\"):\n",
    "        CheckData(valid_y, repeated_t)\n",
    "\n",
    "    # Non-ascending order in t\n",
    "    non_ascending_t = [[1, 2, 1], [4, 5, 4]]\n",
    "    with pytest.raises(ValueError, match=\"Each vector in t should be in ascending order\"):\n",
    "        CheckData(valid_y, non_ascending_t)\n",
    "\n",
    "    # Inf and -Inf values\n",
    "    inf_y = [[1, 2, np.inf]]\n",
    "    with pytest.raises(ValueError, match=\"There are entries in y which are Inf\"):\n",
    "        CheckData(inf_y, valid_t)\n",
    "\n",
    "    neg_inf_y = [[1, 2, -np.inf]]\n",
    "    with pytest.raises(ValueError, match=\"There are entries in y which are -Inf\"):\n",
    "        CheckData(neg_inf_y, valid_t)\n",
    "\n",
    "    # Large time gaps (warning)\n",
    "    large_gap_t = [[1, 2, 100], [4, 5, 6]]\n",
    "    CheckData(valid_y, large_gap_t)  # Warning expected for large time gaps\n",
    "\n",
    "# Use pytest to run the tests\n",
    "import pytest\n",
    "pytest.main()\n"
   ]
  },
  {
   "cell_type": "code",
   "execution_count": null,
   "metadata": {},
   "outputs": [],
   "source": []
  }
 ],
 "metadata": {
  "kernelspec": {
   "display_name": "FDPACE",
   "language": "python",
   "name": "python3"
  },
  "language_info": {
   "codemirror_mode": {
    "name": "ipython",
    "version": 3
   },
   "file_extension": ".py",
   "mimetype": "text/x-python",
   "name": "python",
   "nbconvert_exporter": "python",
   "pygments_lexer": "ipython3",
   "version": "3.9.19"
  }
 },
 "nbformat": 4,
 "nbformat_minor": 2
}
