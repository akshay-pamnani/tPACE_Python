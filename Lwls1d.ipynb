{
 "cells": [
  {
   "cell_type": "code",
   "execution_count": 5,
   "metadata": {},
   "outputs": [],
   "source": [
    "import numpy as np\n",
    "import sys\n",
    "import os\n"
   ]
  },
  {
   "cell_type": "code",
   "execution_count": 6,
   "metadata": {},
   "outputs": [],
   "source": [
    "sys.path.append(os.path.abspath('src'))"
   ]
  },
  {
   "cell_type": "code",
   "execution_count": 9,
   "metadata": {},
   "outputs": [],
   "source": [
    "from CPPlwls1d_py import CPPlwls1d"
   ]
  },
  {
   "cell_type": "code",
   "execution_count": 10,
   "metadata": {},
   "outputs": [],
   "source": [
    "\n",
    "\n",
    "def lwls_1d(bw, kernel_type, win=None, xin=None, yin=None, xout=None, npoly=1, nder=0):\n",
    "    if win is None:\n",
    "        win = np.ones_like(xin)\n",
    "    if xin is None or yin is None or xout is None:\n",
    "        raise ValueError('xin, yin, and xout must be provided.')\n",
    "    \n",
    "    if not np.all(np.diff(xin) > 0):\n",
    "        raise ValueError('`xin` needs to be sorted in increasing order')\n",
    "    \n",
    "    if not np.all(np.diff(xout) > 0):\n",
    "        raise ValueError('`xout` needs to be sorted in increasing order')\n",
    "    \n",
    "    if np.all(np.isnan(win)) or np.all(np.isnan(xin)) or np.all(np.isnan(yin)):\n",
    "        raise ValueError('win, xin or yin contain only NAs!')\n",
    "\n",
    "    # Deal with NA/NaN measurement values\n",
    "    mask = ~np.isnan(xin) & ~np.isnan(yin) & ~np.isnan(win)\n",
    "    win = win[mask]\n",
    "    xin = xin[mask]\n",
    "    yin = yin[mask]\n",
    "\n",
    "    # Assuming CPPlwls1d is a function defined in your C++ extension or similar\n",
    "    return CPPlwls1d(bw=float(bw), kernel_type=kernel_type, npoly=int(npoly), \n",
    "                      nder=int(nder), xin=xin.astype(float), \n",
    "                      yin=yin.astype(float), xout=xout.astype(float), \n",
    "                      win=win.astype(float))\n",
    "\n"
   ]
  },
  {
   "cell_type": "code",
   "execution_count": null,
   "metadata": {},
   "outputs": [],
   "source": []
  }
 ],
 "metadata": {
  "kernelspec": {
   "display_name": "FDAPACE",
   "language": "python",
   "name": "python3"
  },
  "language_info": {
   "codemirror_mode": {
    "name": "ipython",
    "version": 3
   },
   "file_extension": ".py",
   "mimetype": "text/x-python",
   "name": "python",
   "nbconvert_exporter": "python",
   "pygments_lexer": "ipython3",
   "version": "3.12.4"
  }
 },
 "nbformat": 4,
 "nbformat_minor": 2
}
